{
 "cells": [
  {
   "cell_type": "code",
   "execution_count": 1,
   "metadata": {},
   "outputs": [],
   "source": [
    "import pandas as pd"
   ]
  },
  {
   "cell_type": "code",
   "execution_count": 2,
   "metadata": {},
   "outputs": [
    {
     "name": "stdout",
     "output_type": "stream",
     "text": [
      "dfsd\n"
     ]
    }
   ],
   "source": [
    "print(\"dfsd\")"
   ]
  },
  {
   "cell_type": "code",
   "execution_count": null,
   "metadata": {},
   "outputs": [],
   "source": [
    "import numpy as np\n",
    "import pandas as pd\n",
    "import math\n",
    "\n",
    "from sklearn.model_selection import train_test_split\n",
    "\n",
    "from sklearn.linear_model import LinearRegression\n",
    "from sklearn.linear_model import Ridge\n",
    "from sklearn.linear_model import Lasso\n",
    "from sklearn.linear_model import ElasticNet\n",
    "from sklearn.metrics import mean_squared_error\n",
    "\n",
    "from sklearn.preprocessing import PolynomialFeatures\n",
    "from sklearn.pipeline import Pipeline\n",
    "from sklearn.preprocessing import StandardScaler\n",
    "\n",
    "import matplotlib.pyplot as plt\n",
    "import seaborn as sns"
   ]
  },
  {
   "cell_type": "code",
   "execution_count": 4,
   "metadata": {},
   "outputs": [],
   "source": [
    "from sklearn.datasets import load_boston\n",
    "boston = load_boston()"
   ]
  },
  {
   "cell_type": "code",
   "execution_count": 5,
   "metadata": {},
   "outputs": [],
   "source": [
    "df_x=pd.DataFrame(boston.data,columns=boston.feature_names)"
   ]
  },
  {
   "cell_type": "code",
   "execution_count": 6,
   "metadata": {},
   "outputs": [],
   "source": [
    "df_y=pd.DataFrame(boston.target)"
   ]
  },
  {
   "cell_type": "code",
   "execution_count": 7,
   "metadata": {},
   "outputs": [],
   "source": [
    "x_train, x_test, y_train, y_test = train_test_split(df_x, df_y, test_size=0.2, random_state=4)"
   ]
  },
  {
   "cell_type": "code",
   "execution_count": 8,
   "metadata": {},
   "outputs": [
    {
     "name": "stdout",
     "output_type": "stream",
     "text": [
      "Training score: 0.741524421973\n",
      "Test score: 0.72634514597\n",
      "RMSE: 5.0417841214\n"
     ]
    }
   ],
   "source": [
    "\n",
    "lr_model = LinearRegression()\n",
    "lr_model.fit(x_train, y_train)\n",
    "\n",
    "print('Training score: {}'.format(lr_model.score(x_train, y_train)))\n",
    "print('Test score: {}'.format(lr_model.score(x_test, y_test)))\n",
    "\n",
    "y_pred = lr_model.predict(x_test)\n",
    "mse = mean_squared_error(y_test, y_pred)\n",
    "rmse = math.sqrt(mse)\n",
    "\n",
    "print('RMSE: {}'.format(rmse))"
   ]
  },
  {
   "cell_type": "code",
   "execution_count": 19,
   "metadata": {},
   "outputs": [
    {
     "name": "stdout",
     "output_type": "stream",
     "text": [
      "Training score: 0.928833967955\n",
      "Test score: 0.830938591174\n",
      "RMSE: 5.0417841214\n"
     ]
    },
    {
     "data": {
      "text/plain": [
       "array([[15.75585938],\n",
       "       [22.41796875],\n",
       "       [17.66699219],\n",
       "       [21.8046875 ],\n",
       "       [42.40429688],\n",
       "       [25.31054688],\n",
       "       [30.37890625],\n",
       "       [18.11230469],\n",
       "       [18.27929688],\n",
       "       [12.24316406],\n",
       "       [30.24707031],\n",
       "       [28.66699219],\n",
       "       [12.27734375],\n",
       "       [41.89355469],\n",
       "       [21.3828125 ],\n",
       "       [10.93847656],\n",
       "       [19.8359375 ],\n",
       "       [13.70703125],\n",
       "       [15.6015625 ],\n",
       "       [13.27734375],\n",
       "       [-6.43164062],\n",
       "       [18.05078125],\n",
       "       [18.15625   ],\n",
       "       [20.2109375 ],\n",
       "       [19.00488281],\n",
       "       [19.38183594],\n",
       "       [20.88476562],\n",
       "       [15.79003906],\n",
       "       [21.05078125],\n",
       "       [18.54394531],\n",
       "       [13.26171875],\n",
       "       [21.94140625],\n",
       "       [33.8828125 ],\n",
       "       [20.3046875 ],\n",
       "       [16.29882812],\n",
       "       [14.7578125 ],\n",
       "       [30.89941406],\n",
       "       [40.83203125],\n",
       "       [21.44042969],\n",
       "       [21.88085938],\n",
       "       [43.07421875],\n",
       "       [35.80664062],\n",
       "       [16.41210938],\n",
       "       [32.09570312],\n",
       "       [28.26269531],\n",
       "       [17.94042969],\n",
       "       [47.85449219],\n",
       "       [20.66015625],\n",
       "       [18.54101562],\n",
       "       [24.63671875],\n",
       "       [31.734375  ],\n",
       "       [25.98828125],\n",
       "       [13.73046875],\n",
       "       [30.484375  ],\n",
       "       [ 8.66308594],\n",
       "       [20.00195312],\n",
       "       [23.89550781],\n",
       "       [34.47460938],\n",
       "       [10.91503906],\n",
       "       [34.97460938],\n",
       "       [15.95800781],\n",
       "       [18.65234375],\n",
       "       [30.08496094],\n",
       "       [22.38476562],\n",
       "       [45.56738281],\n",
       "       [26.66796875],\n",
       "       [49.51074219],\n",
       "       [ 6.50390625],\n",
       "       [17.43261719],\n",
       "       [23.01953125],\n",
       "       [21.47167969],\n",
       "       [20.88867188],\n",
       "       [23.35449219],\n",
       "       [25.95410156],\n",
       "       [13.91796875],\n",
       "       [32.20800781],\n",
       "       [16.15234375],\n",
       "       [22.77734375],\n",
       "       [ 4.57421875],\n",
       "       [ 6.44042969],\n",
       "       [19.55957031],\n",
       "       [17.09179688],\n",
       "       [29.38867188],\n",
       "       [17.4765625 ],\n",
       "       [28.0546875 ],\n",
       "       [17.06933594],\n",
       "       [30.93945312],\n",
       "       [18.97851562],\n",
       "       [25.39550781],\n",
       "       [45.44042969],\n",
       "       [28.41113281],\n",
       "       [47.171875  ],\n",
       "       [18.00585938],\n",
       "       [44.73730469],\n",
       "       [22.66601562],\n",
       "       [20.00488281],\n",
       "       [23.49609375],\n",
       "       [36.1484375 ],\n",
       "       [13.05957031],\n",
       "       [19.97070312],\n",
       "       [ 6.19433594],\n",
       "       [25.16992188]])"
      ]
     },
     "execution_count": 19,
     "metadata": {},
     "output_type": "execute_result"
    }
   ],
   "source": [
    "steps = [\n",
    "    ('scalar', StandardScaler()),\n",
    "    ('poly', PolynomialFeatures(degree=2)),\n",
    "    ('model', LinearRegression())\n",
    "]\n",
    "\n",
    "\n",
    "pipeline.fit(x_train, y_train)\n",
    "pipeline = Pipeline(steps)\n",
    "y_pred = pipeline.predict(x_test)\n",
    "print('Training score: {}'.format(pipeline.score(x_train, y_train)))\n",
    "print('Test score: {}'.format(pipeline.score(x_test, y_test)))\n",
    "mse = mean_squared_error(y_test, y_pred)\n",
    "print('RMSE: {}'.format(rmse))\n",
    "y_pred"
   ]
  },
  {
   "cell_type": "code",
   "execution_count": 22,
   "metadata": {},
   "outputs": [
    {
     "name": "stdout",
     "output_type": "stream",
     "text": [
      "Training Score: 0.917425228936\n",
      "Test Score: 0.873111215671\n",
      "RMSE: 5.0417841214\n"
     ]
    }
   ],
   "source": [
    "\n",
    "steps = [\n",
    "    ('scalar', StandardScaler()),\n",
    "    ('poly', PolynomialFeatures(degree=2)),\n",
    "    ('model', Ridge(alpha=10, fit_intercept=True))\n",
    "]\n",
    "\n",
    "ridge_pipe = Pipeline(steps)\n",
    "ridge_pipe.fit(x_train, y_train)\n",
    "y_pred = ridge_pipe.predict(x_test)\n",
    "print('Training Score: {}'.format(ridge_pipe.score(x_train, y_train)))\n",
    "print('Test Score: {}'.format(ridge_pipe.score(x_test, y_test)))\n",
    "mse = mean_squared_error(y_test, y_pred)\n",
    "print('RMSE: {}'.format(rmse))"
   ]
  },
  {
   "cell_type": "code",
   "execution_count": 18,
   "metadata": {},
   "outputs": [
    {
     "data": {
      "text/plain": [
       "array([[16.96404014],\n",
       "       [24.9440845 ],\n",
       "       [16.99047773],\n",
       "       [20.69813622],\n",
       "       [42.05825007],\n",
       "       [24.62268732],\n",
       "       [33.38251886],\n",
       "       [18.39110863],\n",
       "       [16.62688553],\n",
       "       [14.32110121],\n",
       "       [29.30077393],\n",
       "       [26.49300844],\n",
       "       [15.3783529 ],\n",
       "       [39.55884858],\n",
       "       [21.41649805],\n",
       "       [11.57894382],\n",
       "       [19.3349176 ],\n",
       "       [11.53390592],\n",
       "       [14.8083397 ],\n",
       "       [14.48963114],\n",
       "       [ 1.08821397],\n",
       "       [17.32385929],\n",
       "       [18.89582175],\n",
       "       [20.15198174],\n",
       "       [19.67011406],\n",
       "       [19.04065682],\n",
       "       [19.88446616],\n",
       "       [14.46002551],\n",
       "       [21.02512428],\n",
       "       [17.15549178],\n",
       "       [13.03915794],\n",
       "       [20.65228641],\n",
       "       [34.09209398],\n",
       "       [21.29574169],\n",
       "       [16.78516104],\n",
       "       [13.02419667],\n",
       "       [32.27428636],\n",
       "       [41.59543989],\n",
       "       [22.60683851],\n",
       "       [21.62987365],\n",
       "       [41.93099532],\n",
       "       [36.39559063],\n",
       "       [17.44801823],\n",
       "       [31.37124713],\n",
       "       [29.32364315],\n",
       "       [18.5385582 ],\n",
       "       [46.49260261],\n",
       "       [19.41596744],\n",
       "       [18.37671717],\n",
       "       [23.49142085],\n",
       "       [32.1355815 ],\n",
       "       [25.73805424],\n",
       "       [13.53623954],\n",
       "       [30.00330106],\n",
       "       [12.57902788],\n",
       "       [20.43136687],\n",
       "       [23.7048848 ],\n",
       "       [32.52938443],\n",
       "       [14.38068987],\n",
       "       [36.62129531],\n",
       "       [15.86727348],\n",
       "       [18.19097139],\n",
       "       [28.38883373],\n",
       "       [20.40443413],\n",
       "       [43.74585242],\n",
       "       [26.90619004],\n",
       "       [46.84666981],\n",
       "       [ 7.03192822],\n",
       "       [18.82646999],\n",
       "       [23.21316683],\n",
       "       [21.96468734],\n",
       "       [20.52078632],\n",
       "       [25.06365341],\n",
       "       [26.11258789],\n",
       "       [16.91876962],\n",
       "       [29.40201226],\n",
       "       [15.4737919 ],\n",
       "       [23.62667567],\n",
       "       [ 7.17318131],\n",
       "       [12.42800725],\n",
       "       [19.90901437],\n",
       "       [16.34605891],\n",
       "       [27.9767312 ],\n",
       "       [18.03017286],\n",
       "       [27.88881509],\n",
       "       [19.71459322],\n",
       "       [32.59107184],\n",
       "       [18.87185409],\n",
       "       [24.38729681],\n",
       "       [44.55180297],\n",
       "       [30.09670737],\n",
       "       [47.50541187],\n",
       "       [18.33452771],\n",
       "       [45.24604875],\n",
       "       [21.48791896],\n",
       "       [20.90769347],\n",
       "       [25.07400789],\n",
       "       [33.2365641 ],\n",
       "       [14.72201077],\n",
       "       [20.6963674 ],\n",
       "       [ 7.41380629],\n",
       "       [26.09983525]])"
      ]
     },
     "execution_count": 18,
     "metadata": {},
     "output_type": "execute_result"
    }
   ],
   "source": [
    "y_pred"
   ]
  },
  {
   "cell_type": "code",
   "execution_count": 24,
   "metadata": {},
   "outputs": [
    {
     "name": "stdout",
     "output_type": "stream",
     "text": [
      "Training score: 0.836934771185\n",
      "Test score: 0.814443053719\n"
     ]
    }
   ],
   "source": [
    "steps = [\n",
    "    ('scalar', StandardScaler()),\n",
    "    ('poly', PolynomialFeatures(degree=2)),\n",
    "    ('model', Lasso(alpha=0.3, fit_intercept=True))\n",
    "]\n",
    "\n",
    "lasso_pipe = Pipeline(steps)\n",
    "\n",
    "lasso_pipe.fit(x_train, y_train)\n",
    "\n",
    "print('Training score: {}'.format(lasso_pipe.score(x_train, y_train)))\n",
    "print('Test score: {}'.format(lasso_pipe.score(x_test, y_test)))"
   ]
  },
  {
   "cell_type": "code",
   "execution_count": null,
   "metadata": {},
   "outputs": [],
   "source": []
  }
 ],
 "metadata": {
  "kernelspec": {
   "display_name": "Python 2",
   "language": "python",
   "name": "python2"
  },
  "language_info": {
   "codemirror_mode": {
    "name": "ipython",
    "version": 2
   },
   "file_extension": ".py",
   "mimetype": "text/x-python",
   "name": "python",
   "nbconvert_exporter": "python",
   "pygments_lexer": "ipython2",
   "version": "2.7.15"
  }
 },
 "nbformat": 4,
 "nbformat_minor": 2
}
